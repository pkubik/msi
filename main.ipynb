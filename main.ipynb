{
 "cells": [
  {
   "cell_type": "code",
   "execution_count": 1,
   "metadata": {},
   "outputs": [],
   "source": [
    "import pandas as pd\n",
    "import numpy as np\n",
    "import tensorflow as tf\n",
    "import edward as ed\n",
    "import matplotlib.pyplot as plt\n",
    "import seaborn as sns\n",
    "from collections import OrderedDict\n",
    "from pathlib import Path\n",
    "\n",
    "\n",
    "ATTR_SPEC_PATH = 'data/attr.txt'\n",
    "\n",
    "\n",
    "def parse_attr_spec_line(line: str) -> (str, str):\n",
    "    key, desc = line.split(':', maxsplit=1)\n",
    "    _, name = key.split('--')\n",
    "    return name.strip(), desc.strip()\n",
    "\n",
    "\n",
    "def read_attr_spec(path=ATTR_SPEC_PATH) -> OrderedDict:\n",
    "    path = Path(path)\n",
    "    with path.open() as file:\n",
    "        attr_spec = OrderedDict(parse_attr_spec_line(line)\n",
    "                                for line in file\n",
    "                                if '--' in line)\n",
    "    return attr_spec\n",
    "\n",
    "\n",
    "def discretize(data: pd.Series) -> pd.Series:\n",
    "    std = data.std()\n",
    "    mean = data.mean()\n",
    "    bins = np.array([-np.inf, -1.5 * std, -0.5 * std, 0.5 * std, 1.5 * std, np.inf]) + mean\n",
    "    return pd.cut(data, bins, labels=[-2, -1, 0, 1, 2])"
   ]
  },
  {
   "cell_type": "code",
   "execution_count": 2,
   "metadata": {
    "collapsed": true
   },
   "outputs": [],
   "source": [
    "# Load all data\n",
    "original_data = pd.read_csv('data/communities.data', header=None, index_col=None)\n",
    "attr_spec = read_attr_spec()\n",
    "original_data.columns = list(attr_spec.keys())"
   ]
  },
  {
   "cell_type": "code",
   "execution_count": 3,
   "metadata": {
    "collapsed": true
   },
   "outputs": [],
   "source": [
    "# Filter interesting states\n",
    "STATES = {\n",
    "    'Indiana': 18,\n",
    "    'Ohio': 39,\n",
    "    'West Virginia': 54,\n",
    "    'Virginia': 51,\n",
    "    'Kentucky': 21,\n",
    "    'Tennessee': 47\n",
    "}\n",
    "data = original_data[original_data['state'].isin(STATES.values())]"
   ]
  },
  {
   "cell_type": "code",
   "execution_count": 4,
   "metadata": {},
   "outputs": [],
   "source": [
    "means = data.mean()\n",
    "stds = data.std()\n",
    "selected_attrs = [\n",
    "    'LandArea',\n",
    "    'numbUrban',\n",
    "    'medIncome',\n",
    "    'agePct12t21',\n",
    "    'NumUnderPov',\n",
    "    'PctUnemployed',\n",
    "    'ViolentCrimesPerPop'\n",
    "]\n",
    "ex_data = data[selected_attrs]"
   ]
  },
  {
   "cell_type": "code",
   "execution_count": 5,
   "metadata": {
    "collapsed": true
   },
   "outputs": [],
   "source": [
    "# uncomment to discretize the data\n",
    "# ex_data = ex_data.apply(discretize)"
   ]
  },
  {
   "cell_type": "code",
   "execution_count": 6,
   "metadata": {
    "collapsed": true
   },
   "outputs": [],
   "source": [
    "X = ex_data.values\n",
    "np.random.shuffle(X)\n",
    "TEST_SET_SIZE = 50\n",
    "\n",
    "# Train set\n",
    "X_train = X[-TEST_SET_SIZE:, :-1]\n",
    "y_train = X[-TEST_SET_SIZE:, -1]  # extract the labels\n",
    "\n",
    "# Test set\n",
    "X_test = X[:-TEST_SET_SIZE, :-1]\n",
    "y_test = X[:-TEST_SET_SIZE, -1]  # extract the labels"
   ]
  },
  {
   "cell_type": "code",
   "execution_count": 7,
   "metadata": {
    "collapsed": true
   },
   "outputs": [],
   "source": [
    "tf.reset_default_graph()\n",
    "sess = tf.InteractiveSession()\n",
    "D = 6  # number of features\n",
    "\n",
    "X = tf.placeholder(tf.float32, [None, D])\n",
    "w = ed.models.Normal(loc=tf.zeros(D), scale=1./6)\n",
    "b = ed.models.Normal(loc=tf.zeros(1), scale=0.5)\n",
    "ys = ed.models.Uniform(0.0, 0.5)\n",
    "y = ed.models.Normal(loc=ed.dot(X, w) + b, scale=ys)"
   ]
  },
  {
   "cell_type": "code",
   "execution_count": 8,
   "metadata": {
    "collapsed": true
   },
   "outputs": [],
   "source": [
    "qw = ed.models.PointMass(tf.get_variable(\"qw\", [D]))\n",
    "qb = ed.models.PointMass(tf.get_variable(\"qb\", [1]))\n",
    "qys = ed.models.PointMass(tf.nn.softplus(tf.get_variable(\"qys\", [])))"
   ]
  },
  {
   "cell_type": "code",
   "execution_count": 9,
   "metadata": {},
   "outputs": [
    {
     "name": "stderr",
     "output_type": "stream",
     "text": [
      "/home/pkubik/anaconda3/envs/edward/lib/python3.6/site-packages/edward/util/random_variables.py:52: FutureWarning: Conversion of the second argument of issubdtype from `float` to `np.floating` is deprecated. In future, it will be treated as `np.float64 == np.dtype(float).type`.\n",
      "  not np.issubdtype(value.dtype, np.float) and \\\n"
     ]
    },
    {
     "name": "stdout",
     "output_type": "stream",
     "text": [
      "1000/1000 [100%] ██████████████████████████████ Elapsed: 0s | Loss: -16.650\n"
     ]
    }
   ],
   "source": [
    "inference = ed.MAP({w: qw, b: qb, ys: qys}, data={X: X_train, y: y_train})\n",
    "inference.run(n_iter=1000)\n",
    "y_post = ed.copy(y, {w: qw, b: qb, ys: qys})"
   ]
  },
  {
   "cell_type": "code",
   "execution_count": 10,
   "metadata": {},
   "outputs": [
    {
     "name": "stdout",
     "output_type": "stream",
     "text": [
      "Mean squared error on train data:\n",
      "0.03281951\n",
      "Log loss on train data:\n"
     ]
    },
    {
     "name": "stderr",
     "output_type": "stream",
     "text": [
      "/home/pkubik/anaconda3/envs/edward/lib/python3.6/site-packages/edward/util/random_variables.py:52: FutureWarning: Conversion of the second argument of issubdtype from `float` to `np.floating` is deprecated. In future, it will be treated as `np.float64 == np.dtype(float).type`.\n",
      "  not np.issubdtype(value.dtype, np.float) and \\\n"
     ]
    },
    {
     "name": "stdout",
     "output_type": "stream",
     "text": [
      "0.74419683\n",
      "Mean squared error on test data:\n",
      "0.024710815\n",
      "Log loss on test data:\n",
      "0.74658525\n"
     ]
    }
   ],
   "source": [
    "print(\"Mean squared error on train data:\")\n",
    "print(ed.evaluate('mean_squared_error', data={X: X_train, y_post: y_train}))\n",
    "\n",
    "print(\"Log loss on train data:\")\n",
    "print(ed.evaluate('log_loss', data={X: X_train, y_post: y_train}))\n",
    "\n",
    "print(\"Mean squared error on test data:\")\n",
    "print(ed.evaluate('mean_squared_error', data={X: X_test, y_post: y_test}))\n",
    "\n",
    "print(\"Log loss on test data:\")\n",
    "print(ed.evaluate('log_loss', data={X: X_test, y_post: y_test}))"
   ]
  },
  {
   "cell_type": "code",
   "execution_count": 11,
   "metadata": {},
   "outputs": [
    {
     "data": {
      "image/png": "[encoded data removed]",
      "text/plain": [
       "<Figure size 432x288 with 1 Axes>"
      ]
     },
     "metadata": {},
     "output_type": "display_data"
    }
   ],
   "source": [
    "ed.ppc_density_plot(y_test, y_post.sample([10]).eval({X: X_test}))\n",
    "plt.show()"
   ]
  },
  {
   "cell_type": "code",
   "execution_count": 12,
   "metadata": {},
   "outputs": [
    {
     "name": "stdout",
     "output_type": "stream",
     "text": [
      "Estimated output std: 0.17994004487991333\n",
      "Estimated w: [ 0.15209717  0.1924208  -0.1629371   0.04425019  0.22336283  0.2738569 ]\n",
      "Estimated b: [0.10004576]\n"
     ]
    }
   ],
   "source": [
    "print(\"Estimated output std: {}\".format(qys.eval()))\n",
    "print(\"Estimated w: {}\".format(qw.eval()))\n",
    "print(\"Estimated b: {}\".format(qb.eval()))"
   ]
  },
  {
   "cell_type": "code",
   "execution_count": 13,
   "metadata": {},
   "outputs": [
    {
     "name": "stdout",
     "output_type": "stream",
     "text": [
      "Deterministic MSE: 0.024899599790590095\n"
     ]
    }
   ],
   "source": [
    "print(\"Deterministic MSE: {}\".format(np.mean((y_post.loc.eval({X: X_test}) - y_test)**2)))"
   ]
  }
 ],
 "metadata": {
  "kernelspec": {
   "display_name": "Python 3",
   "language": "python",
   "name": "python3"
  },
  "language_info": {
   "codemirror_mode": {
    "name": "ipython",
    "version": 3
   },
   "file_extension": ".py",
   "mimetype": "text/x-python",
   "name": "python",
   "nbconvert_exporter": "python",
   "pygments_lexer": "ipython3",
   "version": "3.6.5"
  }
 },
 "nbformat": 4,
 "nbformat_minor": 2
}
