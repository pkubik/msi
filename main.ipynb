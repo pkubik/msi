{
 "cells": [
  {
   "cell_type": "code",
   "execution_count": null,
   "metadata": {
    "collapsed": true
   },
   "outputs": [],
   "source": [
    "import pandas as pd\n",
    "import numpy as np\n",
    "import bayespy as bp\n",
    "from collections import OrderedDict\n",
    "from pathlib import Path\n",
    "\n",
    "\n",
    "ATTR_SPEC_PATH = 'data/attr.txt'\n",
    "\n",
    "\n",
    "def parse_attr_spec_line(line: str) -> (str, str):\n",
    "    key, desc = line.split(':', maxsplit=1)\n",
    "    _, name = key.split('--')\n",
    "    return name.strip(), desc.strip()\n",
    "\n",
    "\n",
    "def read_attr_spec(path=ATTR_SPEC_PATH) -> OrderedDict:\n",
    "    path = Path(path)\n",
    "    with path.open() as file:\n",
    "        attr_spec = OrderedDict(parse_attr_spec_line(line)\n",
    "                                for line in file\n",
    "                                if '--' in line)\n",
    "    return attr_spec\n",
    "\n",
    "\n",
    "def quantify(data: pd.Series) -> pd.Series:\n",
    "    std = data.std()\n",
    "    mean = data.mean()\n",
    "    bins = np.array([-np.inf, -1.5 * std, -0.5 * std, 0.5 * std, 1.5 * std, np.inf]) + mean\n",
    "    return pd.cut(data, bins, labels=[-2, -1, 0, 1, 2])"
   ]
  },
  {
   "cell_type": "code",
   "execution_count": null,
   "metadata": {
    "collapsed": true
   },
   "outputs": [],
   "source": [
    "# Load all data\n",
    "original_data = pd.DataFrame.from_csv('data/communities.data', header=None, index_col=None)\n",
    "attr_spec = read_attr_spec()\n",
    "original_data.columns = list(attr_spec.keys())"
   ]
  },
  {
   "cell_type": "code",
   "execution_count": null,
   "metadata": {
    "collapsed": true
   },
   "outputs": [],
   "source": [
    "# Filter interesting states\n",
    "STATES = {\n",
    "    'Indiana': 18,\n",
    "    'Ohio': 39,\n",
    "    'West Virginia': 54,\n",
    "    'Virginia': 51,\n",
    "    'Kentucky': 21,\n",
    "    'Tennessee': 47\n",
    "}\n",
    "data = original_data[original_data['state'].isin(STATES.values())]"
   ]
  },
  {
   "cell_type": "code",
   "execution_count": null,
   "metadata": {},
   "outputs": [],
   "source": [
    "means = data.mean()\n",
    "stds = data.std()\n",
    "selected_attrs = [\n",
    "    'LandArea',\n",
    "    'numbUrban',\n",
    "    'medIncome',\n",
    "    'agePct12t21',\n",
    "    'NumUnderPov',\n",
    "    'PctUnemployed',\n",
    "    'ViolentCrimesPerPop'\n",
    "]\n",
    "ex_data = data[selected_attrs]"
   ]
  },
  {
   "cell_type": "code",
   "execution_count": null,
   "metadata": {},
   "outputs": [],
   "source": [
    "ex_data = ex_data.apply(quantify)"
   ]
  },
  {
   "cell_type": "code",
   "execution_count": null,
   "metadata": {},
   "outputs": [],
   "source": [
    "ex_data"
   ]
  },
  {
   "cell_type": "code",
   "execution_count": null,
   "metadata": {
    "collapsed": true
   },
   "outputs": [],
   "source": []
  }
 ],
 "metadata": {
  "kernelspec": {
   "display_name": "Python 3",
   "language": "python",
   "name": "python3"
  },
  "language_info": {
   "codemirror_mode": {
    "name": "ipython",
    "version": 3
   },
   "file_extension": ".py",
   "mimetype": "text/x-python",
   "name": "python",
   "nbconvert_exporter": "python",
   "pygments_lexer": "ipython3",
   "version": "3.6.1"
  }
 },
 "nbformat": 4,
 "nbformat_minor": 2
}
